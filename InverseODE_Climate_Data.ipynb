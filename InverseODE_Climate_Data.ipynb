{
  "cells": [
    {
      "cell_type": "markdown",
      "metadata": {
        "id": "CkRhl-XghLCF"
      },
      "source": [
        "This code is based off an example from the DeepXDE documentation.\n",
        "\n",
        "We attempt to use the DeepXDE library to model the set of coupled differential equations that govern the patterns of Earth’s temperature, Ice coverage, and CO2 based on the data acquired during the last half-century.\n",
        "\n",
        "The DeepXDE library employs Physics Informed Neural Networks that find the coefficients of ODEs given a dataset that can be modeled by the ODE system.\n",
        "\n",
        "Documentation: [DeepXDE Example](https://deepxde.readthedocs.io/en/latest/demos/lorenz.inverse.html)"
      ]
    },
    {
      "cell_type": "code",
      "execution_count": null,
      "metadata": {
        "colab": {
          "base_uri": "https://localhost:8080/"
        },
        "id": "zvbSafs1hKnd",
        "outputId": "41ab8f29-ff79-4cb5-c531-7935878930e7"
      },
      "outputs": [],
      "source": [
        "!pip install deepxde"
      ]
    },
    {
      "cell_type": "markdown",
      "metadata": {
        "id": "1sfGVj1Zg63V"
      },
      "source": [
        "Imports and functions"
      ]
    },
    {
      "cell_type": "code",
      "execution_count": null,
      "metadata": {
        "id": "eyuhFn4fgkld"
      },
      "outputs": [],
      "source": [
        "# This code is primarily written by Nolan Koblischke (https://github.com/NolanKoblischke/)\n",
        "# This code is based off of the DeepXDE Lorenze Inverse example.\n",
        "from __future__ import absolute_import\n",
        "from __future__ import division\n",
        "from __future__ import print_function\n",
        "\n",
        "import io\n",
        "import re\n",
        "\n",
        "import matplotlib.pyplot as plt\n",
        "import numpy as np\n",
        "import requests\n",
        "\n",
        "import deepxde as dde\n",
        "from deepxde.backend import tf\n"
      ]
    },
    {
      "cell_type": "code",
      "execution_count": null,
      "metadata": {
        "id": "3dEbOZWKWrq_"
      },
      "outputs": [],
      "source": [
        "#Extract the data.\n",
        "import requests\n",
        "import numpy as np\n",
        "import pandas as pd\n",
        "\n",
        "#Download the file to csv. This data comes from the World Meteorological Organization as well as datahub.io.\n",
        "url = 'https://raw.githubusercontent.com/NolanKoblischke/GoodDynamics/main/ClimateData_AverageTemperature.csv'\n",
        "r = requests.get(url)\n",
        "with open('ClimateData_AverageTemperature.csv', 'wb') as f:\n",
        "    f.write(r.content)\n",
        "\n",
        "#Read the file into a dataframe\n",
        "df = pd.read_csv('ClimateData_AverageTemperature.csv', index_col=0)\n",
        "\n",
        "#Only take Year, Temperature, Sea Ice Coverage, and CO2 (ppm)\n",
        "df = df[['Year', 'Temperature', 'Sea Ice Coverage', 'CO2 (ppm)']]\n",
        "\n",
        "#Make the year column start at 0\n",
        "df['Year'] = df['Year']-1959\n",
        "\n",
        "#Make t numpy array with the years in shape (1,n)\n",
        "ob_t = np.array(df['Year']).reshape(len(df['Year']),1)\n",
        "\n",
        "#Make y numpy array from the rest of the columns\n",
        "ob_y = np.array(df.drop('Year', axis=1))\n"
      ]
    },
    {
      "cell_type": "code",
      "execution_count": null,
      "metadata": {
        "colab": {
          "base_uri": "https://localhost:8080/"
        },
        "id": "Sska8P7isMgo",
        "outputId": "d42eb061-5d0a-4dad-f644-32e0df7f5eb1"
      },
      "outputs": [
        {
          "name": "stdout",
          "output_type": "stream",
          "text": [
            "   Year  Temperature  Sea Ice Coverage   CO2 (ppm)\n",
            "0     0    14.013539          0.076864  316.280000\n",
            "1     1    13.947003          0.075551  317.125833\n",
            "2     2    14.037778          0.074863  317.988333\n",
            "3     3    13.996948          0.075498  318.646667\n",
            "4     4    14.023509          0.075833  319.417500\n"
          ]
        }
      ],
      "source": [
        "print(df.head())"
      ]
    },
    {
      "cell_type": "code",
      "execution_count": null,
      "metadata": {
        "id": "mPNg-vtv6sqj"
      },
      "outputs": [],
      "source": [
        "# parameters to be identified\n",
        "alpha1= tf.Variable(1.0)\n",
        "alpha2= tf.Variable(1.0)\n",
        "epsilon1= tf.Variable(1.0)\n",
        "epsilon2= tf.Variable(1.0)\n",
        "beta= tf.Variable(1.0)\n",
        "a= tf.Variable(1.0)\n",
        "b= tf.Variable(1.0)\n",
        "k= tf.Variable(1.0)\n",
        "m= tf.Variable(1.0)"
      ]
    },
    {
      "cell_type": "markdown",
      "metadata": {
        "id": "YW127EoPt4La"
      },
      "source": [
        "## The ODE system:\n",
        "T: Global Mean Temperature\n",
        "\n",
        "I: Percentage of Sea Ice Coverage\n",
        "\n",
        "E: CO2 concentration (ppm)\n",
        "\n",
        "$$\n",
        "\\begin{aligned}\n",
        "&\\frac{d T}{d t}=q(1-(\\alpha_1 + \\alpha_2 S))-(\\epsilon_1+\\epsilon_2 E)\\sigma_{SB} T^{4}\n",
        "\\\\\n",
        "&\\frac{d S}{d t}=\\beta-a T \\\\\n",
        "&\\frac{d E}{d t}=b E+k\n",
        "\\end{aligned}\n",
        "$$\n",
        "\n"
      ]
    },
    {
      "cell_type": "markdown",
      "metadata": {},
      "source": [
        "The temperature differential was modified from: [Climate Modeling in Differential\n",
        "Equations](https://www2.oberlin.edu/math/faculty/walsh/UMAPclimate.pdf)\n",
        "\n",
        "The alpha terms represent albedo, which we estimate is a linear function of sea ice.\n",
        "The epsilon terms represent the greenhouse effect, which we estimate is a linear function of CO2 concentration."
      ]
    },
    {
      "cell_type": "code",
      "execution_count": null,
      "metadata": {
        "id": "XAD6GbxMSF1h"
      },
      "outputs": [],
      "source": [
        "sigma = 5.670367e-8 #Stefan Boltzmann\n",
        "q = 342 #annual global mean incoming solar radiation per square meter of the Earth’s surface\n",
        "\n",
        "# define system ODEs\n",
        "def Climate_system(t, y):\n",
        "    \"\"\"Climate system. Columns T, S, E\n",
        "    \"\"\"\n",
        "    T, S,E = y[:, 0:1], y[:, 1:2], y[:, 2:]\n",
        "    dT_t = dde.grad.jacobian(y, t, i=0)\n",
        "    dS_t = dde.grad.jacobian(y, t, i=1)\n",
        "    dE_t = dde.grad.jacobian(y, t, i=2)\n",
        "\n",
        "    return [\n",
        "      dT_t - q*(1-(alpha1+alpha2*S))+(epsilon1+epsilon2*E)*sigma*T**4,\n",
        "      dS_t - beta+a*T,\n",
        "      dE_t -b*E-k\n",
        "    ]\n",
        "\n",
        "def boundary(_, on_initial):\n",
        "    return on_initial"
      ]
    },
    {
      "cell_type": "code",
      "execution_count": null,
      "metadata": {
        "colab": {
          "base_uri": "https://localhost:8080/"
        },
        "id": "Fr6hPIbouHAP",
        "outputId": "5870bb0c-568f-4a1d-eab1-707fb0c0b5a5"
      },
      "outputs": [
        {
          "name": "stdout",
          "output_type": "stream",
          "text": [
            "Initial Conditions:  [1.40135392e+01 7.68638220e-02 3.16280000e+02]\n",
            "Date Range: 0 57\n"
          ]
        }
      ],
      "source": [
        "print(\"Initial Conditions: \", ob_y[0])\n",
        "print(\"Date Range:\", ob_t[0][0],ob_t[-1][0])"
      ]
    },
    {
      "cell_type": "markdown",
      "metadata": {
        "id": "c8yTpgeIgpEa"
      },
      "source": [
        "Define data and BCs"
      ]
    },
    {
      "cell_type": "code",
      "execution_count": null,
      "metadata": {
        "colab": {
          "base_uri": "https://localhost:8080/",
          "height": 350
        },
        "id": "V5GUlQ_4goNr",
        "outputId": "796b22aa-e1f6-4e94-86e9-3428594ee5e0"
      },
      "outputs": [],
      "source": [
        "# define time domain\n",
        "geom = dde.geometry.TimeDomain(ob_t[0][0],ob_t[-1][0])\n",
        "\n",
        "# Initial conditions\n",
        "ic1 = dde.IC(geom, lambda X: ob_y[0][0], boundary, component=0)\n",
        "ic2 = dde.IC(geom, lambda X: ob_y[0][1], boundary, component=1)\n",
        "ic3 = dde.IC(geom, lambda X: ob_y[0][2], boundary, component=2)\n",
        "\n",
        "# Get the training data  Columns T, S, E\n",
        "observe_T = dde.PointSetBC(ob_t, ob_y[:, 0:1], component=0)\n",
        "observe_S = dde.PointSetBC(ob_t, ob_y[:, 1:2], component=1)\n",
        "observe_E = dde.PointSetBC(ob_t, ob_y[:, 2:], component=2)\n",
        "\n",
        "\n",
        "# define data object\n",
        "data = dde.data.PDE(\n",
        "    geom,\n",
        "    Climate_system,\n",
        "    [ic1, ic2, ic3, observe_T,  observe_S,  observe_E],\n",
        "    num_domain=400,\n",
        "    num_boundary=2,\n",
        "    anchors=ob_t,\n",
        ")\n",
        "\n",
        "plt.plot(ob_t, ob_y)\n",
        "plt.xlabel('Time')\n",
        "plt.legend(['T','S','E'])\n",
        "plt.title('Training data')\n",
        "plt.show()\n"
      ]
    },
    {
      "cell_type": "markdown",
      "metadata": {
        "id": "qeuWXbSE4SZi"
      },
      "source": [
        "Train network"
      ]
    },
    {
      "cell_type": "code",
      "execution_count": null,
      "metadata": {
        "colab": {
          "base_uri": "https://localhost:8080/",
          "height": 1000
        },
        "id": "usZzo2ylv4UA",
        "outputId": "7776f4fe-5e3a-479d-de21-313920091ed5"
      },
      "outputs": [],
      "source": [
        "# define FNN architecture and compile\n",
        "net = dde.maps.FNN([1] + [40] * 3 + [3], \"tanh\", \"Glorot uniform\")\n",
        "model = dde.Model(data, net)\n",
        "model.compile(\"adam\", lr=0.001)\n",
        "\n",
        "# callbacks for storing results\n",
        "fnamevar = \"variables.dat\"\n",
        "variable = dde.callbacks.VariableValue(    \n",
        "    [alpha1, alpha2, epsilon1, epsilon2, beta, a, b, k], \n",
        "    period=1,\n",
        "    filename=fnamevar\n",
        ")\n",
        "\n",
        "\n",
        "losshistory, train_state = model.train(epochs=150000, callbacks=[variable])"
      ]
    },
    {
      "cell_type": "markdown",
      "metadata": {
        "id": "eWm5PVlcCz9n"
      },
      "source": [
        " Plot identified parameters"
      ]
    },
    {
      "cell_type": "code",
      "execution_count": null,
      "metadata": {
        "colab": {
          "base_uri": "https://localhost:8080/",
          "height": 279
        },
        "id": "hyPBX9r_C0aE",
        "outputId": "7e6f0325-c7d9-46e4-c7fd-cca050242270"
      },
      "outputs": [
        {
          "data": {
            "image/png": "[encoded data removed]",
            "text/plain": [
              "<Figure size 432x288 with 1 Axes>"
            ]
          },
          "metadata": {
            "needs_background": "light"
          },
          "output_type": "display_data"
        }
      ],
      "source": [
        "# reopen saved data using callbacks in fnamevar \n",
        "lines = open(fnamevar, \"r\").readlines()\n",
        "\n",
        "# read output data in fnamevar\n",
        "Chat = np.array([np.fromstring(min(re.findall(re.escape('[')+\"(.*?)\"+re.escape(']'),line), key=len), sep=',') for line in lines])\n",
        "\n",
        "l,c = Chat.shape\n",
        "plt.plot(range(l),Chat[:,0],'r-')\n",
        "plt.plot(range(l),Chat[:,1],'k-')\n",
        "plt.plot(range(l),Chat[:,2],'g-')\n",
        "plt.plot(range(l),Chat[:,3],'b-')\n",
        "\n",
        "plt.legend(['alpha1', 'alpha2', 'epsilon1', 'epsilon2'],loc = \"right\")\n",
        "plt.xlabel('Epoch')\n",
        "plt.show()"
      ]
    },
    {
      "cell_type": "code",
      "execution_count": null,
      "metadata": {
        "colab": {
          "base_uri": "https://localhost:8080/",
          "height": 279
        },
        "id": "ahjDtLckVzXr",
        "outputId": "daf83dd1-1e0b-4659-9726-af04ec244718"
      },
      "outputs": [
        {
          "data": {
            "image/png": "[encoded data removed]",
            "text/plain": [
              "<Figure size 432x288 with 1 Axes>"
            ]
          },
          "metadata": {
            "needs_background": "light"
          },
          "output_type": "display_data"
        }
      ],
      "source": [
        "plt.plot(range(l),Chat[:,4],'r-')\n",
        "plt.plot(range(l),Chat[:,5],'k-')\n",
        "plt.plot(range(l),Chat[:,6],'g-')\n",
        "plt.plot(range(l),Chat[:,7],'b-')\n",
        "\n",
        "\n",
        "plt.legend(['beta', 'a', 'b', 'k'],loc = \"right\")\n",
        "plt.xlabel('Epoch')\n",
        "plt.show()"
      ]
    },
    {
      "cell_type": "code",
      "execution_count": null,
      "metadata": {
        "colab": {
          "base_uri": "https://localhost:8080/"
        },
        "id": "CEP0RP402zIP",
        "outputId": "d4879b1a-f2a7-4157-92f8-290f7fa55f9d"
      },
      "outputs": [
        {
          "name": "stdout",
          "output_type": "stream",
          "text": [
            "alpha1 : 0.998\n",
            "alpha2 : 0.0652\n",
            "epsilon1 : -0.855\n",
            "epsilon2 : -1.2\n",
            "beta : -0.0218\n",
            "a : -0.0015\n",
            "b : 0.0174\n",
            "k : -4.61\n"
          ]
        }
      ],
      "source": [
        "#Printing the final values of the parameters\n",
        "param_list = ['alpha1', 'alpha2', 'epsilon1', 'epsilon2', 'beta', 'a', 'b', 'k']\n",
        "\n",
        "for i, val in enumerate(param_list):\n",
        "  print(val, \":\", Chat[-1,i])"
      ]
    },
    {
      "cell_type": "code",
      "execution_count": null,
      "metadata": {
        "colab": {
          "base_uri": "https://localhost:8080/",
          "height": 381
        },
        "id": "2l75q3hu7SSi",
        "outputId": "28e9013c-57bf-417d-f42d-d890ae404609"
      },
      "outputs": [],
      "source": [
        "yhat = model.predict(ob_t)\n",
        "\n",
        "plt.plot(ob_t, ob_y,'-',ob_t, yhat,'--')\n",
        "plt.xlabel('Time')\n",
        "plt.legend(['T','S','E','Th','Sh','Eh'])\n",
        "plt.title('Training data')\n",
        "plt.show()"
      ]
    },
    {
      "cell_type": "code",
      "execution_count": null,
      "metadata": {
        "colab": {
          "base_uri": "https://localhost:8080/",
          "height": 809
        },
        "id": "4wWykPbp0RW2",
        "outputId": "921bb510-fea2-447e-c651-74e62e373753"
      },
      "outputs": [],
      "source": [
        "#Plotting the known data and the modeled data on seperate plots\n",
        "\n",
        "df_yhat = pd.DataFrame(yhat, columns=df.columns[1:])\n",
        "df_yhat.columns = [col+\"_predicted\" for col in df_yhat.columns]\n",
        "for i in range(0,len(df_yhat.columns)):\n",
        "  df_yhat.iloc[:,i].plot()\n",
        "  df.iloc[:,i+1].plot()\n",
        "  plt.legend(loc='best')\n",
        "  plt.title(df_yhat.columns[i])\n",
        "  plt.show()"
      ]
    },
    {
      "cell_type": "markdown",
      "metadata": {},
      "source": [
        "Results of our best run are on the github page."
      ]
    }
  ],
  "metadata": {
    "accelerator": "GPU",
    "colab": {
      "collapsed_sections": [],
      "name": "Messing around Inverse ODE T,S,E.ipynb",
      "provenance": []
    },
    "interpreter": {
      "hash": "b2032933d239dba3ee9aa30518626fefc64f13c4eac530702192914d5513bd0a"
    },
    "kernelspec": {
      "display_name": "Python 3.7.4 32-bit",
      "name": "python3"
    },
    "language_info": {
      "codemirror_mode": {
        "name": "ipython",
        "version": 3
      },
      "file_extension": ".py",
      "mimetype": "text/x-python",
      "name": "python",
      "nbconvert_exporter": "python",
      "pygments_lexer": "ipython3",
      "version": "3.7.4"
    },
    "orig_nbformat": 2
  },
  "nbformat": 4,
  "nbformat_minor": 0
}